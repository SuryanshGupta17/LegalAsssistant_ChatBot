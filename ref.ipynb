{
 "cells": [
  {
   "cell_type": "code",
   "execution_count": 1,
   "metadata": {},
   "outputs": [
    {
     "name": "stdout",
     "output_type": "stream",
     "text": [
      "I don't have a personal name. I am an artificial intelligence language model, and I don't have a personal identity or consciousness. I exist solely to assist and provide information to users, and I don't have personal characteristics or emotions. You can think of me as a computer program designed to simulate conversation and answer questions to the best of my abilities!"
     ]
    }
   ],
   "source": [
    "from groq import Groq\n",
    "#app.secret_key = 'your_secret_key_here'\n",
    "client = Groq(api_key='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')\n",
    "\n",
    "completion = client.chat.completions.create(\n",
    "    model=\"llama3-8b-8192\",\n",
    "    messages=[\n",
    "        {\n",
    "            \"role\": \"user\",\n",
    "            \"content\": \"What is your name\"\n",
    "        }\n",
    "    ],\n",
    "    temperature=1,\n",
    "    max_tokens=1024,\n",
    "    top_p=1,\n",
    "    stream=True,\n",
    "    stop=None,\n",
    ")\n",
    "\n",
    "for chunk in completion:\n",
    "    print(chunk.choices[0].delta.content or \"\", end=\"\")\n"
   ]
  },
  {
   "cell_type": "code",
   "execution_count": 8,
   "metadata": {},
   "outputs": [
    {
     "name": "stdout",
     "output_type": "stream",
     "text": [
      "PDF Content Extracted\n",
      "LLM Model Response Generated\n",
      "Summary:\n",
      " The text discusses cybersecurity and online safety, particularly with regard to women and children in India. The author highlights the increasing number of cybercrimes and the need for stricter laws and more effective reporting mechanisms.\n",
      "\n",
      "The paper begins by discussing the rise of cybercrimes in India and the need for greater awareness and prevention measures. The author notes that the National Crime Records Bureau has reported a significant increase in cybercrime cases over the past few years.\n",
      "\n",
      "The author further discusses the importance of cyber security measures, such as encryption and firewalls, and the need for greater awareness and education among the general public. They also highlight the role of law enforcement and the need for stricter laws and penalties to combat cybercrimes.\n",
      "\n",
      "The author also discusses the issue of online harassment and harassment and the need for greater awareness and education among individuals and organizations.\n",
      "\n",
      "Also discussed in the paper are the provisions of India's laws and penalties related to cybercrime, such as the Information Technology Act (2000) and the Indian Penal Code, as well as the challenges faced by law enforcement in effectively combating cybercrime.\n",
      "\n",
      "The author concludes by highlighting the need for a comprehensive approach to combating cybercrime, including the need for greater awareness, education, and law enforcement efforts.\n"
     ]
    }
   ],
   "source": [
    "from langchain.document_loaders import PyPDFLoader\n",
    "from groq import Groq\n",
    "\n",
    "client = Groq(api_key='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')\n",
    "\n",
    "def read_pdf_content(pdf_file):\n",
    "    loader = PyPDFLoader(pdf_file)\n",
    "    documents = loader.load()\n",
    "    \n",
    "    # Combine the content of all pages into a single variable\n",
    "    content = \"\"\n",
    "    for doc in documents:\n",
    "        content += doc.page_content + \"\\n\"\n",
    "    \n",
    "    return content\n",
    "\n",
    "def call_llm_model(prompt, model_name=\"llama3-8b-8192\"):\n",
    "    completion = client.chat.completions.create(\n",
    "        model=model_name,\n",
    "        messages=[\n",
    "            {\n",
    "                \"role\": \"user\",\n",
    "                \"content\": prompt\n",
    "            }\n",
    "        ],\n",
    "        temperature=1,\n",
    "        max_tokens=1024,\n",
    "        top_p=1,\n",
    "        stream=True,\n",
    "        stop=None,\n",
    "    )\n",
    "\n",
    "    response = \"\"\n",
    "    for chunk in completion:\n",
    "        response += chunk.choices[0].delta.content or \"\"\n",
    "\n",
    "    return response\n",
    "\n",
    "def main(pdf_file):\n",
    "    content = read_pdf_content(pdf_file)\n",
    "    print(\"PDF Content Extracted\")\n",
    "\n",
    "    prompt = f\"Please summarize the following text:\\n\\n{content}\"\n",
    "    summary = call_llm_model(prompt)\n",
    "    print(\"LLM Model Response Generated\")\n",
    "    \n",
    "    return summary\n",
    "\n",
    "if __name__ == \"__main__\":\n",
    "    pdf_file = \"data/paper.pdf\"\n",
    "    summary = main(pdf_file)\n",
    "    print(\"Summary:\\n\", summary)\n"
   ]
  }
 ],
 "metadata": {
  "kernelspec": {
   "display_name": "Python 3",
   "language": "python",
   "name": "python3"
  },
  "language_info": {
   "codemirror_mode": {
    "name": "ipython",
    "version": 3
   },
   "file_extension": ".py",
   "mimetype": "text/x-python",
   "name": "python",
   "nbconvert_exporter": "python",
   "pygments_lexer": "ipython3",
   "version": "3.11.9"
  }
 },
 "nbformat": 4,
 "nbformat_minor": 2
}
