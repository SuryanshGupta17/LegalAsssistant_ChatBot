{
 "cells": [
  {
   "cell_type": "code",
   "execution_count": 5,
   "metadata": {},
   "outputs": [],
   "source": [
    "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"
   ]
  },
  {
   "cell_type": "code",
   "execution_count": 12,
   "metadata": {},
   "outputs": [
    {
     "name": "stdout",
     "output_type": "stream",
     "text": [
      "Sir Isaac Newton (1643-1727) was a renowned English mathematician, physicist, astronomer, and scientist who is widely recognized as one of the most influential scientists in history. He made major contributions to the fields of mathematics, optics, and physics, and his work laid the foundation for the Scientific Revolution in the 17th century.\n",
      "\n",
      "Newton was born in Woolsthorpe, Lincolnshire, England, and was the only child of a yeoman farmer. He was a slow learner as a child and was ill in bed for several years during his childhood. However, he eventually developed an interest in mathematics and was admitted to Trinity College, Cambridge, in 1661. He graduated in 1665 and stayed at Cambridge to continue his studies.\n",
      "\n",
      "Newton's most famous works include:\n",
      "\n",
      "1. **Laws of Motion**: Newton formulated three laws of motion that describe how objects move and respond to forces. The first law states that an object at rest will remain at rest, and an object in motion will continue to move, unless acted upon by an external force. The second law describes the relationship between an object's mass and the force required to produce a given acceleration. The third law states that every action has an equal and opposite reaction.\n",
      "2. **Universal Gravitation**: Newton's most famous achievement is the development of the law of universal gravitation, which states that every point mass attracts every other point mass by a force acting along the line intersecting both points. This theory explained the motion of planets, comets, and the behavior of the Moon.\n",
      "3. **Calculus**: Newton, along with Gottfried Wilhelm Leibniz, developed the field of calculus. Calculus is a mathematical technique used to study rates of change and accumulation. Newton developed the method of \"fluxions\" which is equivalent to the modern concept of derivatives. He also developed the method of \"summation,\" which is equivalent to the modern concept of integrals.\n",
      "4. **Optics**: Newton made significant contributions to the study of light and color. He was the first to demonstrate the composition of white light into its constituent colors through the use of a prism.\n",
      "\n",
      "Newton's contributions to science and mathematics had a profound impact on the development of modern science. He was elected a Fellow of the Royal Society in 1672 and was knighted in 1705 for his services to science. He was buried in Westminster Abbey, a rare honor for a scientist."
     ]
    }
   ],
   "source": [
    "from groq import Groq\n",
    "#app.secret_key = 'your_secret_key_here'\n",
    "client = Groq(api_key='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')\n",
    "\n",
    "completion = client.chat.completions.create(\n",
    "    model=\"llama3-8b-8192\",\n",
    "    messages=[\n",
    "        {\n",
    "            \"role\": \"user\",\n",
    "            \"content\": \"Who was newton\"\n",
    "        }\n",
    "    ],\n",
    "    temperature=1,\n",
    "    max_tokens=1024,\n",
    "    top_p=1,\n",
    "    stream=True,\n",
    "    stop=None,\n",
    ")\n",
    "\n",
    "for chunk in completion:\n",
    "    print(chunk.choices[0].delta.content or \"\", end=\"\")\n"
   ]
  }
 ],
 "metadata": {
  "kernelspec": {
   "display_name": "Python 3",
   "language": "python",
   "name": "python3"
  },
  "language_info": {
   "codemirror_mode": {
    "name": "ipython",
    "version": 3
   },
   "file_extension": ".py",
   "mimetype": "text/x-python",
   "name": "python",
   "nbconvert_exporter": "python",
   "pygments_lexer": "ipython3",
   "version": "3.11.9"
  }
 },
 "nbformat": 4,
 "nbformat_minor": 2
}
